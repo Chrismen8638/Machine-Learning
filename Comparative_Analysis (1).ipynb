{
  "nbformat": 4,
  "nbformat_minor": 0,
  "metadata": {
    "colab": {
      "provenance": []
    },
    "kernelspec": {
      "name": "python3",
      "display_name": "Python 3"
    },
    "language_info": {
      "name": "python"
    }
  },
  "cells": [
    {
      "cell_type": "markdown",
      "source": [
        "Comparative Analysis for prediction of STI"
      ],
      "metadata": {
        "id": "lNpCJ6xR77FO"
      }
    },
    {
      "cell_type": "markdown",
      "source": [
        "Importing data"
      ],
      "metadata": {
        "id": "kZvc4NyTPG2n"
      }
    },
    {
      "cell_type": "code",
      "execution_count": null,
      "metadata": {
        "id": "O-URudMu3JNs",
        "colab": {
          "base_uri": "https://localhost:8080/",
          "height": 342
        },
        "outputId": "5c73698d-dd6d-4ce8-e00c-2597e16c3058"
      },
      "outputs": [
        {
          "output_type": "execute_result",
          "data": {
            "text/plain": [
              "   IdNumber  CaseStatus       Date  A1Age  A2Occupation          A3Church  \\\n",
              "0        32           2 2009-12-03     23  1 unemployed     5 pentecostal   \n",
              "1        33           1 2009-12-03     24     4 student       2 apostolic   \n",
              "2        34           2 2009-12-03     24  1 unemployed       2 apostolic   \n",
              "3        35           1 2009-12-03     33      3 formal  7 roman catholic   \n",
              "4        10           2 2009-12-03     63     4 student           8 other   \n",
              "\n",
              "  A4LevelOfEducation A5MaritalStatus  Weight  Height  ...  Unemployed  \\\n",
              "0        3 secondary       2 married    61.0   182.0  ...         1.0   \n",
              "1        3 secondary       2 married    53.0   166.0  ...         NaN   \n",
              "2        3 secondary       2 married    91.4   166.0  ...         1.0   \n",
              "3        3 secondary       2 married   100.0   166.0  ...         2.0   \n",
              "4          2 primary       2 married    83.0   156.0  ...         NaN   \n",
              "\n",
              "   Education  AlcoholUse  SexPartner1year  SexPartner3month LastPartnerSpouse  \\\n",
              "0          2         2.0                0                 0                 1   \n",
              "1          2         1.0                0                 0                 1   \n",
              "2          2         1.0                0                 0                 1   \n",
              "3          2         2.0                0                 0                 1   \n",
              "4          1         2.0                0                 0                 1   \n",
              "\n",
              "  Belong  ReceiveHelp  SexPartnerLife3   Sex.1  \n",
              "0      1            1                0  Female  \n",
              "1      0            0                0  Female  \n",
              "2      1            1                0  Female  \n",
              "3      1            1                0  Female  \n",
              "4      1            1                0    Male  \n",
              "\n",
              "[5 rows x 47 columns]"
            ],
            "text/html": [
              "\n",
              "  <div id=\"df-8d90d838-e23f-434f-919e-3186d79521d4\" class=\"colab-df-container\">\n",
              "    <div>\n",
              "<style scoped>\n",
              "    .dataframe tbody tr th:only-of-type {\n",
              "        vertical-align: middle;\n",
              "    }\n",
              "\n",
              "    .dataframe tbody tr th {\n",
              "        vertical-align: top;\n",
              "    }\n",
              "\n",
              "    .dataframe thead th {\n",
              "        text-align: right;\n",
              "    }\n",
              "</style>\n",
              "<table border=\"1\" class=\"dataframe\">\n",
              "  <thead>\n",
              "    <tr style=\"text-align: right;\">\n",
              "      <th></th>\n",
              "      <th>IdNumber</th>\n",
              "      <th>CaseStatus</th>\n",
              "      <th>Date</th>\n",
              "      <th>A1Age</th>\n",
              "      <th>A2Occupation</th>\n",
              "      <th>A3Church</th>\n",
              "      <th>A4LevelOfEducation</th>\n",
              "      <th>A5MaritalStatus</th>\n",
              "      <th>Weight</th>\n",
              "      <th>Height</th>\n",
              "      <th>...</th>\n",
              "      <th>Unemployed</th>\n",
              "      <th>Education</th>\n",
              "      <th>AlcoholUse</th>\n",
              "      <th>SexPartner1year</th>\n",
              "      <th>SexPartner3month</th>\n",
              "      <th>LastPartnerSpouse</th>\n",
              "      <th>Belong</th>\n",
              "      <th>ReceiveHelp</th>\n",
              "      <th>SexPartnerLife3</th>\n",
              "      <th>Sex.1</th>\n",
              "    </tr>\n",
              "  </thead>\n",
              "  <tbody>\n",
              "    <tr>\n",
              "      <th>0</th>\n",
              "      <td>32</td>\n",
              "      <td>2</td>\n",
              "      <td>2009-12-03</td>\n",
              "      <td>23</td>\n",
              "      <td>1 unemployed</td>\n",
              "      <td>5 pentecostal</td>\n",
              "      <td>3 secondary</td>\n",
              "      <td>2 married</td>\n",
              "      <td>61.0</td>\n",
              "      <td>182.0</td>\n",
              "      <td>...</td>\n",
              "      <td>1.0</td>\n",
              "      <td>2</td>\n",
              "      <td>2.0</td>\n",
              "      <td>0</td>\n",
              "      <td>0</td>\n",
              "      <td>1</td>\n",
              "      <td>1</td>\n",
              "      <td>1</td>\n",
              "      <td>0</td>\n",
              "      <td>Female</td>\n",
              "    </tr>\n",
              "    <tr>\n",
              "      <th>1</th>\n",
              "      <td>33</td>\n",
              "      <td>1</td>\n",
              "      <td>2009-12-03</td>\n",
              "      <td>24</td>\n",
              "      <td>4 student</td>\n",
              "      <td>2 apostolic</td>\n",
              "      <td>3 secondary</td>\n",
              "      <td>2 married</td>\n",
              "      <td>53.0</td>\n",
              "      <td>166.0</td>\n",
              "      <td>...</td>\n",
              "      <td>NaN</td>\n",
              "      <td>2</td>\n",
              "      <td>1.0</td>\n",
              "      <td>0</td>\n",
              "      <td>0</td>\n",
              "      <td>1</td>\n",
              "      <td>0</td>\n",
              "      <td>0</td>\n",
              "      <td>0</td>\n",
              "      <td>Female</td>\n",
              "    </tr>\n",
              "    <tr>\n",
              "      <th>2</th>\n",
              "      <td>34</td>\n",
              "      <td>2</td>\n",
              "      <td>2009-12-03</td>\n",
              "      <td>24</td>\n",
              "      <td>1 unemployed</td>\n",
              "      <td>2 apostolic</td>\n",
              "      <td>3 secondary</td>\n",
              "      <td>2 married</td>\n",
              "      <td>91.4</td>\n",
              "      <td>166.0</td>\n",
              "      <td>...</td>\n",
              "      <td>1.0</td>\n",
              "      <td>2</td>\n",
              "      <td>1.0</td>\n",
              "      <td>0</td>\n",
              "      <td>0</td>\n",
              "      <td>1</td>\n",
              "      <td>1</td>\n",
              "      <td>1</td>\n",
              "      <td>0</td>\n",
              "      <td>Female</td>\n",
              "    </tr>\n",
              "    <tr>\n",
              "      <th>3</th>\n",
              "      <td>35</td>\n",
              "      <td>1</td>\n",
              "      <td>2009-12-03</td>\n",
              "      <td>33</td>\n",
              "      <td>3 formal</td>\n",
              "      <td>7 roman catholic</td>\n",
              "      <td>3 secondary</td>\n",
              "      <td>2 married</td>\n",
              "      <td>100.0</td>\n",
              "      <td>166.0</td>\n",
              "      <td>...</td>\n",
              "      <td>2.0</td>\n",
              "      <td>2</td>\n",
              "      <td>2.0</td>\n",
              "      <td>0</td>\n",
              "      <td>0</td>\n",
              "      <td>1</td>\n",
              "      <td>1</td>\n",
              "      <td>1</td>\n",
              "      <td>0</td>\n",
              "      <td>Female</td>\n",
              "    </tr>\n",
              "    <tr>\n",
              "      <th>4</th>\n",
              "      <td>10</td>\n",
              "      <td>2</td>\n",
              "      <td>2009-12-03</td>\n",
              "      <td>63</td>\n",
              "      <td>4 student</td>\n",
              "      <td>8 other</td>\n",
              "      <td>2 primary</td>\n",
              "      <td>2 married</td>\n",
              "      <td>83.0</td>\n",
              "      <td>156.0</td>\n",
              "      <td>...</td>\n",
              "      <td>NaN</td>\n",
              "      <td>1</td>\n",
              "      <td>2.0</td>\n",
              "      <td>0</td>\n",
              "      <td>0</td>\n",
              "      <td>1</td>\n",
              "      <td>1</td>\n",
              "      <td>1</td>\n",
              "      <td>0</td>\n",
              "      <td>Male</td>\n",
              "    </tr>\n",
              "  </tbody>\n",
              "</table>\n",
              "<p>5 rows × 47 columns</p>\n",
              "</div>\n",
              "    <div class=\"colab-df-buttons\">\n",
              "\n",
              "  <div class=\"colab-df-container\">\n",
              "    <button class=\"colab-df-convert\" onclick=\"convertToInteractive('df-8d90d838-e23f-434f-919e-3186d79521d4')\"\n",
              "            title=\"Convert this dataframe to an interactive table.\"\n",
              "            style=\"display:none;\">\n",
              "\n",
              "  <svg xmlns=\"http://www.w3.org/2000/svg\" height=\"24px\" viewBox=\"0 -960 960 960\">\n",
              "    <path d=\"M120-120v-720h720v720H120Zm60-500h600v-160H180v160Zm220 220h160v-160H400v160Zm0 220h160v-160H400v160ZM180-400h160v-160H180v160Zm440 0h160v-160H620v160ZM180-180h160v-160H180v160Zm440 0h160v-160H620v160Z\"/>\n",
              "  </svg>\n",
              "    </button>\n",
              "\n",
              "  <style>\n",
              "    .colab-df-container {\n",
              "      display:flex;\n",
              "      gap: 12px;\n",
              "    }\n",
              "\n",
              "    .colab-df-convert {\n",
              "      background-color: #E8F0FE;\n",
              "      border: none;\n",
              "      border-radius: 50%;\n",
              "      cursor: pointer;\n",
              "      display: none;\n",
              "      fill: #1967D2;\n",
              "      height: 32px;\n",
              "      padding: 0 0 0 0;\n",
              "      width: 32px;\n",
              "    }\n",
              "\n",
              "    .colab-df-convert:hover {\n",
              "      background-color: #E2EBFA;\n",
              "      box-shadow: 0px 1px 2px rgba(60, 64, 67, 0.3), 0px 1px 3px 1px rgba(60, 64, 67, 0.15);\n",
              "      fill: #174EA6;\n",
              "    }\n",
              "\n",
              "    .colab-df-buttons div {\n",
              "      margin-bottom: 4px;\n",
              "    }\n",
              "\n",
              "    [theme=dark] .colab-df-convert {\n",
              "      background-color: #3B4455;\n",
              "      fill: #D2E3FC;\n",
              "    }\n",
              "\n",
              "    [theme=dark] .colab-df-convert:hover {\n",
              "      background-color: #434B5C;\n",
              "      box-shadow: 0px 1px 3px 1px rgba(0, 0, 0, 0.15);\n",
              "      filter: drop-shadow(0px 1px 2px rgba(0, 0, 0, 0.3));\n",
              "      fill: #FFFFFF;\n",
              "    }\n",
              "  </style>\n",
              "\n",
              "    <script>\n",
              "      const buttonEl =\n",
              "        document.querySelector('#df-8d90d838-e23f-434f-919e-3186d79521d4 button.colab-df-convert');\n",
              "      buttonEl.style.display =\n",
              "        google.colab.kernel.accessAllowed ? 'block' : 'none';\n",
              "\n",
              "      async function convertToInteractive(key) {\n",
              "        const element = document.querySelector('#df-8d90d838-e23f-434f-919e-3186d79521d4');\n",
              "        const dataTable =\n",
              "          await google.colab.kernel.invokeFunction('convertToInteractive',\n",
              "                                                    [key], {});\n",
              "        if (!dataTable) return;\n",
              "\n",
              "        const docLinkHtml = 'Like what you see? Visit the ' +\n",
              "          '<a target=\"_blank\" href=https://colab.research.google.com/notebooks/data_table.ipynb>data table notebook</a>'\n",
              "          + ' to learn more about interactive tables.';\n",
              "        element.innerHTML = '';\n",
              "        dataTable['output_type'] = 'display_data';\n",
              "        await google.colab.output.renderOutput(dataTable, element);\n",
              "        const docLink = document.createElement('div');\n",
              "        docLink.innerHTML = docLinkHtml;\n",
              "        element.appendChild(docLink);\n",
              "      }\n",
              "    </script>\n",
              "  </div>\n",
              "\n",
              "\n",
              "    <div id=\"df-a42c02aa-8157-4835-82dd-ade02cc975c3\">\n",
              "      <button class=\"colab-df-quickchart\" onclick=\"quickchart('df-a42c02aa-8157-4835-82dd-ade02cc975c3')\"\n",
              "                title=\"Suggest charts\"\n",
              "                style=\"display:none;\">\n",
              "\n",
              "<svg xmlns=\"http://www.w3.org/2000/svg\" height=\"24px\"viewBox=\"0 0 24 24\"\n",
              "     width=\"24px\">\n",
              "    <g>\n",
              "        <path d=\"M19 3H5c-1.1 0-2 .9-2 2v14c0 1.1.9 2 2 2h14c1.1 0 2-.9 2-2V5c0-1.1-.9-2-2-2zM9 17H7v-7h2v7zm4 0h-2V7h2v10zm4 0h-2v-4h2v4z\"/>\n",
              "    </g>\n",
              "</svg>\n",
              "      </button>\n",
              "\n",
              "<style>\n",
              "  .colab-df-quickchart {\n",
              "      --bg-color: #E8F0FE;\n",
              "      --fill-color: #1967D2;\n",
              "      --hover-bg-color: #E2EBFA;\n",
              "      --hover-fill-color: #174EA6;\n",
              "      --disabled-fill-color: #AAA;\n",
              "      --disabled-bg-color: #DDD;\n",
              "  }\n",
              "\n",
              "  [theme=dark] .colab-df-quickchart {\n",
              "      --bg-color: #3B4455;\n",
              "      --fill-color: #D2E3FC;\n",
              "      --hover-bg-color: #434B5C;\n",
              "      --hover-fill-color: #FFFFFF;\n",
              "      --disabled-bg-color: #3B4455;\n",
              "      --disabled-fill-color: #666;\n",
              "  }\n",
              "\n",
              "  .colab-df-quickchart {\n",
              "    background-color: var(--bg-color);\n",
              "    border: none;\n",
              "    border-radius: 50%;\n",
              "    cursor: pointer;\n",
              "    display: none;\n",
              "    fill: var(--fill-color);\n",
              "    height: 32px;\n",
              "    padding: 0;\n",
              "    width: 32px;\n",
              "  }\n",
              "\n",
              "  .colab-df-quickchart:hover {\n",
              "    background-color: var(--hover-bg-color);\n",
              "    box-shadow: 0 1px 2px rgba(60, 64, 67, 0.3), 0 1px 3px 1px rgba(60, 64, 67, 0.15);\n",
              "    fill: var(--button-hover-fill-color);\n",
              "  }\n",
              "\n",
              "  .colab-df-quickchart-complete:disabled,\n",
              "  .colab-df-quickchart-complete:disabled:hover {\n",
              "    background-color: var(--disabled-bg-color);\n",
              "    fill: var(--disabled-fill-color);\n",
              "    box-shadow: none;\n",
              "  }\n",
              "\n",
              "  .colab-df-spinner {\n",
              "    border: 2px solid var(--fill-color);\n",
              "    border-color: transparent;\n",
              "    border-bottom-color: var(--fill-color);\n",
              "    animation:\n",
              "      spin 1s steps(1) infinite;\n",
              "  }\n",
              "\n",
              "  @keyframes spin {\n",
              "    0% {\n",
              "      border-color: transparent;\n",
              "      border-bottom-color: var(--fill-color);\n",
              "      border-left-color: var(--fill-color);\n",
              "    }\n",
              "    20% {\n",
              "      border-color: transparent;\n",
              "      border-left-color: var(--fill-color);\n",
              "      border-top-color: var(--fill-color);\n",
              "    }\n",
              "    30% {\n",
              "      border-color: transparent;\n",
              "      border-left-color: var(--fill-color);\n",
              "      border-top-color: var(--fill-color);\n",
              "      border-right-color: var(--fill-color);\n",
              "    }\n",
              "    40% {\n",
              "      border-color: transparent;\n",
              "      border-right-color: var(--fill-color);\n",
              "      border-top-color: var(--fill-color);\n",
              "    }\n",
              "    60% {\n",
              "      border-color: transparent;\n",
              "      border-right-color: var(--fill-color);\n",
              "    }\n",
              "    80% {\n",
              "      border-color: transparent;\n",
              "      border-right-color: var(--fill-color);\n",
              "      border-bottom-color: var(--fill-color);\n",
              "    }\n",
              "    90% {\n",
              "      border-color: transparent;\n",
              "      border-bottom-color: var(--fill-color);\n",
              "    }\n",
              "  }\n",
              "</style>\n",
              "\n",
              "      <script>\n",
              "        async function quickchart(key) {\n",
              "          const quickchartButtonEl =\n",
              "            document.querySelector('#' + key + ' button');\n",
              "          quickchartButtonEl.disabled = true;  // To prevent multiple clicks.\n",
              "          quickchartButtonEl.classList.add('colab-df-spinner');\n",
              "          try {\n",
              "            const charts = await google.colab.kernel.invokeFunction(\n",
              "                'suggestCharts', [key], {});\n",
              "          } catch (error) {\n",
              "            console.error('Error during call to suggestCharts:', error);\n",
              "          }\n",
              "          quickchartButtonEl.classList.remove('colab-df-spinner');\n",
              "          quickchartButtonEl.classList.add('colab-df-quickchart-complete');\n",
              "        }\n",
              "        (() => {\n",
              "          let quickchartButtonEl =\n",
              "            document.querySelector('#df-a42c02aa-8157-4835-82dd-ade02cc975c3 button');\n",
              "          quickchartButtonEl.style.display =\n",
              "            google.colab.kernel.accessAllowed ? 'block' : 'none';\n",
              "        })();\n",
              "      </script>\n",
              "    </div>\n",
              "\n",
              "    </div>\n",
              "  </div>\n"
            ],
            "application/vnd.google.colaboratory.intrinsic+json": {
              "type": "dataframe",
              "variable_name": "data"
            }
          },
          "metadata": {},
          "execution_count": 1
        }
      ],
      "source": [
        "import pandas as pd\n",
        "import numpy as np\n",
        "data = pd.read_excel('/content/STIData (1).xls')\n",
        "data.head()"
      ]
    },
    {
      "cell_type": "markdown",
      "source": [
        "Checking the missing values"
      ],
      "metadata": {
        "id": "OT0zgZUnPb5F"
      }
    },
    {
      "cell_type": "code",
      "source": [
        "data.isnull().sum()"
      ],
      "metadata": {
        "colab": {
          "base_uri": "https://localhost:8080/",
          "height": 1000
        },
        "id": "CTZCJ-FPPaLi",
        "outputId": "4d32af02-d86a-4c63-b15f-67ff581b7268"
      },
      "execution_count": null,
      "outputs": [
        {
          "output_type": "execute_result",
          "data": {
            "text/plain": [
              "IdNumber                  0\n",
              "CaseStatus                0\n",
              "Date                      0\n",
              "A1Age                     0\n",
              "A2Occupation              0\n",
              "A3Church                  0\n",
              "A4LevelOfEducation        0\n",
              "A5MaritalStatus           0\n",
              "Weight                    0\n",
              "Height                    1\n",
              "C3StiYesno               64\n",
              "D1BurialSociety           0\n",
              "D1religiousgrp            0\n",
              "D1savingsClub             1\n",
              "D1tradersAssoc            0\n",
              "D2Group1                 65\n",
              "D2Group2                142\n",
              "D3Education              64\n",
              "D3FuneralAssistance      64\n",
              "D3HealthServices         63\n",
              "DurationOfillness        86\n",
              "E8WhyhaveSTI             89\n",
              "N10givereceiveforsex      0\n",
              "N11Usedcondom             0\n",
              "N12UseCondom              0\n",
              "N13TakenAlcohol           0\n",
              "N14DoYouHave              0\n",
              "N15LivingTogether        35\n",
              "N16HowOldIs              35\n",
              "D3receivecredit          64\n",
              "Typeofsti               113\n",
              "N2SexDebut                6\n",
              "N3HadAnSti                2\n",
              "N9Relationship            0\n",
              "Sex                       2\n",
              "AgeFirstSex               6\n",
              "HabitationStatus          0\n",
              "Unemployed               14\n",
              "Education                 0\n",
              "AlcoholUse                2\n",
              "SexPartner1year           0\n",
              "SexPartner3month          0\n",
              "LastPartnerSpouse         0\n",
              "Belong                    0\n",
              "ReceiveHelp               0\n",
              "SexPartnerLife3           0\n",
              "Sex.1                     1\n",
              "dtype: int64"
            ],
            "text/html": [
              "<div>\n",
              "<style scoped>\n",
              "    .dataframe tbody tr th:only-of-type {\n",
              "        vertical-align: middle;\n",
              "    }\n",
              "\n",
              "    .dataframe tbody tr th {\n",
              "        vertical-align: top;\n",
              "    }\n",
              "\n",
              "    .dataframe thead th {\n",
              "        text-align: right;\n",
              "    }\n",
              "</style>\n",
              "<table border=\"1\" class=\"dataframe\">\n",
              "  <thead>\n",
              "    <tr style=\"text-align: right;\">\n",
              "      <th></th>\n",
              "      <th>0</th>\n",
              "    </tr>\n",
              "  </thead>\n",
              "  <tbody>\n",
              "    <tr>\n",
              "      <th>IdNumber</th>\n",
              "      <td>0</td>\n",
              "    </tr>\n",
              "    <tr>\n",
              "      <th>CaseStatus</th>\n",
              "      <td>0</td>\n",
              "    </tr>\n",
              "    <tr>\n",
              "      <th>Date</th>\n",
              "      <td>0</td>\n",
              "    </tr>\n",
              "    <tr>\n",
              "      <th>A1Age</th>\n",
              "      <td>0</td>\n",
              "    </tr>\n",
              "    <tr>\n",
              "      <th>A2Occupation</th>\n",
              "      <td>0</td>\n",
              "    </tr>\n",
              "    <tr>\n",
              "      <th>A3Church</th>\n",
              "      <td>0</td>\n",
              "    </tr>\n",
              "    <tr>\n",
              "      <th>A4LevelOfEducation</th>\n",
              "      <td>0</td>\n",
              "    </tr>\n",
              "    <tr>\n",
              "      <th>A5MaritalStatus</th>\n",
              "      <td>0</td>\n",
              "    </tr>\n",
              "    <tr>\n",
              "      <th>Weight</th>\n",
              "      <td>0</td>\n",
              "    </tr>\n",
              "    <tr>\n",
              "      <th>Height</th>\n",
              "      <td>1</td>\n",
              "    </tr>\n",
              "    <tr>\n",
              "      <th>C3StiYesno</th>\n",
              "      <td>64</td>\n",
              "    </tr>\n",
              "    <tr>\n",
              "      <th>D1BurialSociety</th>\n",
              "      <td>0</td>\n",
              "    </tr>\n",
              "    <tr>\n",
              "      <th>D1religiousgrp</th>\n",
              "      <td>0</td>\n",
              "    </tr>\n",
              "    <tr>\n",
              "      <th>D1savingsClub</th>\n",
              "      <td>1</td>\n",
              "    </tr>\n",
              "    <tr>\n",
              "      <th>D1tradersAssoc</th>\n",
              "      <td>0</td>\n",
              "    </tr>\n",
              "    <tr>\n",
              "      <th>D2Group1</th>\n",
              "      <td>65</td>\n",
              "    </tr>\n",
              "    <tr>\n",
              "      <th>D2Group2</th>\n",
              "      <td>142</td>\n",
              "    </tr>\n",
              "    <tr>\n",
              "      <th>D3Education</th>\n",
              "      <td>64</td>\n",
              "    </tr>\n",
              "    <tr>\n",
              "      <th>D3FuneralAssistance</th>\n",
              "      <td>64</td>\n",
              "    </tr>\n",
              "    <tr>\n",
              "      <th>D3HealthServices</th>\n",
              "      <td>63</td>\n",
              "    </tr>\n",
              "    <tr>\n",
              "      <th>DurationOfillness</th>\n",
              "      <td>86</td>\n",
              "    </tr>\n",
              "    <tr>\n",
              "      <th>E8WhyhaveSTI</th>\n",
              "      <td>89</td>\n",
              "    </tr>\n",
              "    <tr>\n",
              "      <th>N10givereceiveforsex</th>\n",
              "      <td>0</td>\n",
              "    </tr>\n",
              "    <tr>\n",
              "      <th>N11Usedcondom</th>\n",
              "      <td>0</td>\n",
              "    </tr>\n",
              "    <tr>\n",
              "      <th>N12UseCondom</th>\n",
              "      <td>0</td>\n",
              "    </tr>\n",
              "    <tr>\n",
              "      <th>N13TakenAlcohol</th>\n",
              "      <td>0</td>\n",
              "    </tr>\n",
              "    <tr>\n",
              "      <th>N14DoYouHave</th>\n",
              "      <td>0</td>\n",
              "    </tr>\n",
              "    <tr>\n",
              "      <th>N15LivingTogether</th>\n",
              "      <td>35</td>\n",
              "    </tr>\n",
              "    <tr>\n",
              "      <th>N16HowOldIs</th>\n",
              "      <td>35</td>\n",
              "    </tr>\n",
              "    <tr>\n",
              "      <th>D3receivecredit</th>\n",
              "      <td>64</td>\n",
              "    </tr>\n",
              "    <tr>\n",
              "      <th>Typeofsti</th>\n",
              "      <td>113</td>\n",
              "    </tr>\n",
              "    <tr>\n",
              "      <th>N2SexDebut</th>\n",
              "      <td>6</td>\n",
              "    </tr>\n",
              "    <tr>\n",
              "      <th>N3HadAnSti</th>\n",
              "      <td>2</td>\n",
              "    </tr>\n",
              "    <tr>\n",
              "      <th>N9Relationship</th>\n",
              "      <td>0</td>\n",
              "    </tr>\n",
              "    <tr>\n",
              "      <th>Sex</th>\n",
              "      <td>2</td>\n",
              "    </tr>\n",
              "    <tr>\n",
              "      <th>AgeFirstSex</th>\n",
              "      <td>6</td>\n",
              "    </tr>\n",
              "    <tr>\n",
              "      <th>HabitationStatus</th>\n",
              "      <td>0</td>\n",
              "    </tr>\n",
              "    <tr>\n",
              "      <th>Unemployed</th>\n",
              "      <td>14</td>\n",
              "    </tr>\n",
              "    <tr>\n",
              "      <th>Education</th>\n",
              "      <td>0</td>\n",
              "    </tr>\n",
              "    <tr>\n",
              "      <th>AlcoholUse</th>\n",
              "      <td>2</td>\n",
              "    </tr>\n",
              "    <tr>\n",
              "      <th>SexPartner1year</th>\n",
              "      <td>0</td>\n",
              "    </tr>\n",
              "    <tr>\n",
              "      <th>SexPartner3month</th>\n",
              "      <td>0</td>\n",
              "    </tr>\n",
              "    <tr>\n",
              "      <th>LastPartnerSpouse</th>\n",
              "      <td>0</td>\n",
              "    </tr>\n",
              "    <tr>\n",
              "      <th>Belong</th>\n",
              "      <td>0</td>\n",
              "    </tr>\n",
              "    <tr>\n",
              "      <th>ReceiveHelp</th>\n",
              "      <td>0</td>\n",
              "    </tr>\n",
              "    <tr>\n",
              "      <th>SexPartnerLife3</th>\n",
              "      <td>0</td>\n",
              "    </tr>\n",
              "    <tr>\n",
              "      <th>Sex.1</th>\n",
              "      <td>1</td>\n",
              "    </tr>\n",
              "  </tbody>\n",
              "</table>\n",
              "</div><br><label><b>dtype:</b> int64</label>"
            ]
          },
          "metadata": {},
          "execution_count": 2
        }
      ]
    },
    {
      "cell_type": "markdown",
      "source": [
        "Imputing data"
      ],
      "metadata": {
        "id": "o09qdPzvStMN"
      }
    },
    {
      "cell_type": "code",
      "source": [
        "from sklearn.experimental import enable_iterative_imputer\n",
        "from sklearn.impute import IterativeImputer"
      ],
      "metadata": {
        "id": "2Pq4g5TTS0tk"
      },
      "execution_count": null,
      "outputs": []
    },
    {
      "cell_type": "markdown",
      "source": [
        "Selecting numerical columns for imputation"
      ],
      "metadata": {
        "id": "V3vNX0rLTRw2"
      }
    },
    {
      "cell_type": "code",
      "source": [
        "# Getting numerical columns\n",
        "numerical_columns = data.select_dtypes(include=[np.number]).columns.tolist()\n",
        "# Select only numerical columns\n",
        "data_num = data[numerical_columns]"
      ],
      "metadata": {
        "id": "ScvKCcRWTK9i"
      },
      "execution_count": null,
      "outputs": []
    },
    {
      "cell_type": "markdown",
      "source": [
        "Applying IterativeImputer to the numerical dataframe"
      ],
      "metadata": {
        "id": "uTe1zRZWUL3x"
      }
    },
    {
      "cell_type": "code",
      "source": [
        "imputer = IterativeImputer(max_iter=10, random_state=0,imputation_order='roman' )\n",
        "data_imputed = imputer.fit_transform(data_num)"
      ],
      "metadata": {
        "id": "rKhOu62BUYf2"
      },
      "execution_count": null,
      "outputs": []
    },
    {
      "cell_type": "markdown",
      "source": [
        " Creating new dataframe with imputed values and original column names"
      ],
      "metadata": {
        "id": "IVWpA99XVVN_"
      }
    },
    {
      "cell_type": "code",
      "source": [
        "data1= pd.DataFrame(data_imputed, columns=data_num.columns)"
      ],
      "metadata": {
        "id": "VneLu3bTVcqQ"
      },
      "execution_count": null,
      "outputs": []
    },
    {
      "cell_type": "markdown",
      "source": [
        "Merging imputed dataframe with the original non-numerical columns"
      ],
      "metadata": {
        "id": "kwLy9jHYVzGU"
      }
    },
    {
      "cell_type": "code",
      "source": [
        "data_final = pd.concat([data.drop(numerical_columns, axis=1), data1], axis=1)"
      ],
      "metadata": {
        "id": "X1wau9PIWMge"
      },
      "execution_count": null,
      "outputs": []
    },
    {
      "cell_type": "code",
      "source": [
        "## No missing values\n",
        "data1.isnull().sum()"
      ],
      "metadata": {
        "colab": {
          "base_uri": "https://localhost:8080/",
          "height": 1000
        },
        "id": "p6UD1biqW5sB",
        "outputId": "e4d8026e-8855-4b46-f0b6-03bab4f48c7f"
      },
      "execution_count": null,
      "outputs": [
        {
          "output_type": "execute_result",
          "data": {
            "text/plain": [
              "IdNumber               0\n",
              "CaseStatus             0\n",
              "A1Age                  0\n",
              "Weight                 0\n",
              "Height                 0\n",
              "C3StiYesno             0\n",
              "D1BurialSociety        0\n",
              "D1religiousgrp         0\n",
              "D1savingsClub          0\n",
              "D1tradersAssoc         0\n",
              "D3Education            0\n",
              "D3FuneralAssistance    0\n",
              "D3HealthServices       0\n",
              "DurationOfillness      0\n",
              "N14DoYouHave           0\n",
              "N15LivingTogether      0\n",
              "N16HowOldIs            0\n",
              "D3receivecredit        0\n",
              "N2SexDebut             0\n",
              "N3HadAnSti             0\n",
              "HabitationStatus       0\n",
              "Unemployed             0\n",
              "Education              0\n",
              "AlcoholUse             0\n",
              "SexPartner1year        0\n",
              "SexPartner3month       0\n",
              "LastPartnerSpouse      0\n",
              "Belong                 0\n",
              "ReceiveHelp            0\n",
              "SexPartnerLife3        0\n",
              "dtype: int64"
            ],
            "text/html": [
              "<div>\n",
              "<style scoped>\n",
              "    .dataframe tbody tr th:only-of-type {\n",
              "        vertical-align: middle;\n",
              "    }\n",
              "\n",
              "    .dataframe tbody tr th {\n",
              "        vertical-align: top;\n",
              "    }\n",
              "\n",
              "    .dataframe thead th {\n",
              "        text-align: right;\n",
              "    }\n",
              "</style>\n",
              "<table border=\"1\" class=\"dataframe\">\n",
              "  <thead>\n",
              "    <tr style=\"text-align: right;\">\n",
              "      <th></th>\n",
              "      <th>0</th>\n",
              "    </tr>\n",
              "  </thead>\n",
              "  <tbody>\n",
              "    <tr>\n",
              "      <th>IdNumber</th>\n",
              "      <td>0</td>\n",
              "    </tr>\n",
              "    <tr>\n",
              "      <th>CaseStatus</th>\n",
              "      <td>0</td>\n",
              "    </tr>\n",
              "    <tr>\n",
              "      <th>A1Age</th>\n",
              "      <td>0</td>\n",
              "    </tr>\n",
              "    <tr>\n",
              "      <th>Weight</th>\n",
              "      <td>0</td>\n",
              "    </tr>\n",
              "    <tr>\n",
              "      <th>Height</th>\n",
              "      <td>0</td>\n",
              "    </tr>\n",
              "    <tr>\n",
              "      <th>C3StiYesno</th>\n",
              "      <td>0</td>\n",
              "    </tr>\n",
              "    <tr>\n",
              "      <th>D1BurialSociety</th>\n",
              "      <td>0</td>\n",
              "    </tr>\n",
              "    <tr>\n",
              "      <th>D1religiousgrp</th>\n",
              "      <td>0</td>\n",
              "    </tr>\n",
              "    <tr>\n",
              "      <th>D1savingsClub</th>\n",
              "      <td>0</td>\n",
              "    </tr>\n",
              "    <tr>\n",
              "      <th>D1tradersAssoc</th>\n",
              "      <td>0</td>\n",
              "    </tr>\n",
              "    <tr>\n",
              "      <th>D3Education</th>\n",
              "      <td>0</td>\n",
              "    </tr>\n",
              "    <tr>\n",
              "      <th>D3FuneralAssistance</th>\n",
              "      <td>0</td>\n",
              "    </tr>\n",
              "    <tr>\n",
              "      <th>D3HealthServices</th>\n",
              "      <td>0</td>\n",
              "    </tr>\n",
              "    <tr>\n",
              "      <th>DurationOfillness</th>\n",
              "      <td>0</td>\n",
              "    </tr>\n",
              "    <tr>\n",
              "      <th>N14DoYouHave</th>\n",
              "      <td>0</td>\n",
              "    </tr>\n",
              "    <tr>\n",
              "      <th>N15LivingTogether</th>\n",
              "      <td>0</td>\n",
              "    </tr>\n",
              "    <tr>\n",
              "      <th>N16HowOldIs</th>\n",
              "      <td>0</td>\n",
              "    </tr>\n",
              "    <tr>\n",
              "      <th>D3receivecredit</th>\n",
              "      <td>0</td>\n",
              "    </tr>\n",
              "    <tr>\n",
              "      <th>N2SexDebut</th>\n",
              "      <td>0</td>\n",
              "    </tr>\n",
              "    <tr>\n",
              "      <th>N3HadAnSti</th>\n",
              "      <td>0</td>\n",
              "    </tr>\n",
              "    <tr>\n",
              "      <th>HabitationStatus</th>\n",
              "      <td>0</td>\n",
              "    </tr>\n",
              "    <tr>\n",
              "      <th>Unemployed</th>\n",
              "      <td>0</td>\n",
              "    </tr>\n",
              "    <tr>\n",
              "      <th>Education</th>\n",
              "      <td>0</td>\n",
              "    </tr>\n",
              "    <tr>\n",
              "      <th>AlcoholUse</th>\n",
              "      <td>0</td>\n",
              "    </tr>\n",
              "    <tr>\n",
              "      <th>SexPartner1year</th>\n",
              "      <td>0</td>\n",
              "    </tr>\n",
              "    <tr>\n",
              "      <th>SexPartner3month</th>\n",
              "      <td>0</td>\n",
              "    </tr>\n",
              "    <tr>\n",
              "      <th>LastPartnerSpouse</th>\n",
              "      <td>0</td>\n",
              "    </tr>\n",
              "    <tr>\n",
              "      <th>Belong</th>\n",
              "      <td>0</td>\n",
              "    </tr>\n",
              "    <tr>\n",
              "      <th>ReceiveHelp</th>\n",
              "      <td>0</td>\n",
              "    </tr>\n",
              "    <tr>\n",
              "      <th>SexPartnerLife3</th>\n",
              "      <td>0</td>\n",
              "    </tr>\n",
              "  </tbody>\n",
              "</table>\n",
              "</div><br><label><b>dtype:</b> int64</label>"
            ]
          },
          "metadata": {},
          "execution_count": 8
        }
      ]
    },
    {
      "cell_type": "code",
      "source": [
        "# Checking for Duplicates and dropping them\n",
        "print(\"Checking for duplicates...\")\n",
        "duplicate_count = data1.duplicated().sum()\n",
        "print(f\"Number of duplicate rows: {duplicate_count}\")\n",
        "\n",
        "if duplicate_count > 0:\n",
        "    data1 = data1.drop_duplicates()\n",
        "    print(f\"Dropped {duplicate_count} duplicate rows. New shape: {data1.shape}\")\n",
        "else:\n",
        "    print(\"No duplicates found.\")"
      ],
      "metadata": {
        "colab": {
          "base_uri": "https://localhost:8080/"
        },
        "id": "BhyCrT9Qber8",
        "outputId": "375d1a11-f563-47e5-b618-3542ea48db52"
      },
      "execution_count": null,
      "outputs": [
        {
          "output_type": "stream",
          "name": "stdout",
          "text": [
            "Checking for duplicates...\n",
            "Number of duplicate rows: 0\n",
            "No duplicates found.\n"
          ]
        }
      ]
    },
    {
      "cell_type": "code",
      "source": [
        "# Checking for inconsistencies and correcting\n",
        "print(\"Checking for inconsistencies...\")\n",
        "for column in data1.columns:\n",
        "    unique_values = data1[column].unique()\n",
        "    print(f\"Column: {column}\")\n",
        "    print(f\"Unique values: {unique_values}\")"
      ],
      "metadata": {
        "colab": {
          "base_uri": "https://localhost:8080/"
        },
        "id": "6J80R36ncElk",
        "outputId": "e3c52862-9a2d-448e-e299-bdbc3710a79f"
      },
      "execution_count": null,
      "outputs": [
        {
          "output_type": "stream",
          "name": "stdout",
          "text": [
            "Checking for inconsistencies...\n",
            "Column: IdNumber\n",
            "Unique values: [ 32.  33.  34.  35.  10.  11.  12.  13.  14.  15.  16.  17.  18.  19.\n",
            "   6.   7.   8.   9.  20.  21.  22.  23.  24.  25.  26.  27.  28.  29.\n",
            "  30.  31.  36.  37.  38.  39.  40.  41.  42.  43.  44.  45.  46.  47.\n",
            "  48.  49.  50.  51.  52.  53.  54.  55.  85.  86.  87.  88.  89.  90.\n",
            "  91.  92.  93.  94.  95.  96.  97.  98.  99. 100. 101. 102. 103. 104.\n",
            " 105. 106. 107. 108. 109. 110. 111. 112. 113. 114. 115. 116. 117. 118.\n",
            " 119. 120. 121. 122. 123. 124. 125. 126. 127. 128. 129. 130. 131. 132.\n",
            " 133. 134. 135. 136. 137. 138. 139. 140. 141. 142. 143. 144. 145. 146.\n",
            " 147. 148. 149. 150. 151. 152. 153. 154. 155. 156. 157. 158. 159. 160.\n",
            " 161. 162.   1.   2.   3.   4.   5.  56.  57.  58.  59.  60.  61.  62.\n",
            "  63.  64.  65.  66.  67.  68.  69.  70.  71.  72.  73.  74.  75.  76.\n",
            "  77.  78.  79.  80.  81.  82.  83.  84. 163. 164. 165. 166. 167. 168.\n",
            " 169. 170. 171. 172. 173. 174. 175. 176. 177. 178. 179. 180. 181. 182.\n",
            " 183. 184. 185. 186. 187. 188. 189. 190. 191. 192. 193. 194. 195. 196.\n",
            " 197. 198. 199. 200. 201. 202. 203. 204. 205. 206. 207. 208. 209. 210.\n",
            " 211. 212. 213. 214. 215. 216. 217. 218. 219. 220. 221. 222. 223. 224.\n",
            " 225. 226.]\n",
            "Column: CaseStatus\n",
            "Unique values: [2. 1. 3.]\n",
            "Column: A1Age\n",
            "Unique values: [23. 24. 33. 63. 22. 19. 29. 21. 26. 25. 30. 36. 31. 48. 43. 16. 32. 27.\n",
            " 28. 20. 38. 45. 42. 34. 39. 35. 41. 37. 40. 18. 46. 50. 44. 17.]\n",
            "Column: Weight\n",
            "Unique values: [ 61.   53.   91.4 100.   83.   74.5  94.   82.   38.   73.5  46.   49.5\n",
            "  62.   75.   74.   74.7  66.   54.   63.   59.5  70.   47.5  68.   66.5\n",
            "  65.   49.6  71.   51.   55.   42.   45.4  60.   58.   45.   49.   60.5\n",
            "  69.   50.5  40.   57.   95.5  48.   62.5  48.5  41.   39.5  43.   52.\n",
            "  39.   47.   65.4  72.   41.5  53.5  44.4  43.5  45.2  59.   41.4  44.\n",
            "  56.4  48.8  50.   44.5  63.5  70.5  33.   51.7  50.4  36.   56.   58.5\n",
            "  42.5  35.   45.5  32.8  44.9  54.9  64.   54.5  43.8  57.3  52.5  42.9\n",
            "  50.2  47.3]\n",
            "Column: Height\n",
            "Unique values: [182.         166.         156.         154.         170.\n",
            " 158.         168.         160.         150.         159.\n",
            " 164.         171.         163.         155.         175.\n",
            " 161.         157.         167.         162.         165.\n",
            " 143.         180.         145.         149.         148.\n",
            " 146.         191.         176.         153.         152.\n",
            " 177.         151.         138.         169.         174.\n",
            " 173.         147.         162.22268763 172.        ]\n",
            "Column: C3StiYesno\n",
            "Unique values: [0.17626363 0.         0.1551417  0.1864388  0.19739384 1.\n",
            " 0.15288367 0.17131658 0.0882995  0.18552809 0.12249548 0.16503493\n",
            " 0.15216612 0.13991106 0.15921201 0.14882557 0.22674098 0.16468148\n",
            " 0.12641933 0.15296318 0.12809328 0.13539598 0.1617729  0.14909514\n",
            " 0.17571484 0.13111814 0.15207718 0.12425498 0.1673865  0.16087492\n",
            " 0.12588925 0.1665488  0.12640742 0.12560579 0.16376457 0.13876165\n",
            " 0.13941357 0.10180178 0.14912543 0.14488157 0.1693552  0.15426991\n",
            " 0.13717168 0.12932375 0.1312281  0.16080432 0.15953664 0.13983\n",
            " 0.14495045 0.14192357 0.16758862 0.13331448 0.11724764 0.11282697\n",
            " 0.14291349 0.16562468 0.22528885 0.11254955 0.12434559 0.10563495\n",
            " 0.09034826 0.10015071 0.18450057 0.14665028 0.11274668 0.22356007]\n",
            "Column: D1BurialSociety\n",
            "Unique values: [2. 1.]\n",
            "Column: D1religiousgrp\n",
            "Unique values: [1. 2.]\n",
            "Column: D1savingsClub\n",
            "Unique values: [2.         1.         1.88448027]\n",
            "Column: D1tradersAssoc\n",
            "Unique values: [2. 1.]\n",
            "Column: D3Education\n",
            "Unique values: [2.         1.84045246 1.7897011  1.69061004 1.         1.96378002\n",
            " 1.73154801 1.78527708 1.84011561 1.74151841 1.94075394 1.8903966\n",
            " 1.63774299 1.85317411 1.78283625 1.91611474 1.82941381 1.96973375\n",
            " 1.93220222 1.85765637 1.81524372 1.96634529 1.88301623 1.91179235\n",
            " 1.92762351 1.81349423 1.91090664 1.89043673 1.95163566 1.87947579\n",
            " 1.8125812  1.90440715 2.07826314 1.91362334 1.92628713 1.82306851\n",
            " 1.99084217 1.84960698 1.96048342 1.78108489 1.92315551 1.71991703\n",
            " 1.83134817 1.79840547 1.80810857 1.92511842 1.97681191 1.87049593\n",
            " 1.92065471 1.94802446 2.02877887 1.90009249 2.04823509 2.0085303\n",
            " 1.95917965 2.04012767 1.86769906 1.96170691 1.91896959 1.83575337\n",
            " 1.92325377 1.90586605 1.75644335 1.89024279 1.96909923 1.96568843]\n",
            "Column: D3FuneralAssistance\n",
            "Unique values: [1.         1.93184743 1.87073032 1.86855159 1.79156368 1.94176044\n",
            " 1.85738744 1.99532839 1.88673906 2.         1.94016221 1.91623196\n",
            " 1.90691857 1.83880888 1.89441278 1.9162019  1.80568496 1.78765847\n",
            " 1.87852784 1.92598375 2.000945   1.88686843 1.83755909 1.86851069\n",
            " 1.80436413 1.98235812 1.87661838 1.93124893 2.02319862 1.93705933\n",
            " 1.92187566 1.88002836 1.84423477 1.94677966 1.95092874 1.85415331\n",
            " 1.93439543 1.92884597 1.91317333 2.14562892 1.94637608 1.95652512\n",
            " 1.84474793 1.9813813  2.02570043 1.89015265 2.00723203 1.96346438\n",
            " 1.88324515 1.85694869 1.93464659 2.14215196 1.97437938 1.93957236\n",
            " 1.90544922 1.87595745 1.92616901 1.97231115 1.93933302 1.94495506\n",
            " 2.01829745 1.8869158  2.19611598 2.04780791 1.9124401  1.90464675]\n",
            "Column: D3HealthServices\n",
            "Unique values: [2.         1.71184766 1.         1.78633271 1.675355   1.72939065\n",
            " 1.80532053 2.08143472 1.85703007 1.90205418 1.90353806 1.6506535\n",
            " 1.85135469 1.8018858  1.77965327 1.85784444 1.89029053 1.89806167\n",
            " 1.75227626 1.67852787 1.69838289 1.79256475 1.83159301 1.75640371\n",
            " 1.63027169 1.8024232  1.82304743 1.90332098 1.76892858 1.65979404\n",
            " 1.77870017 1.89694552 1.78677754 1.85341442 1.78238075 1.90414582\n",
            " 1.89795571 1.85157786 1.89596599 1.8321459  1.6644945  1.7586553\n",
            " 1.74040684 1.82925411 1.8348074  1.95553531 1.85205234 1.80010331\n",
            " 1.81116601 1.9705673  1.85754378 1.94118811 1.90158252 1.81958726\n",
            " 1.833267   1.85860496 1.78456567 1.92916944 1.75016273 1.85745857\n",
            " 1.67422481 1.82850066 1.6176561  1.97152641 1.87801529]\n",
            "Column: DurationOfillness\n",
            "Unique values: [ 21.37394845   7.          21.34561159  21.          21.57734497\n",
            "   4.          21.53413311  30.          21.56926585   3.\n",
            "  21.55324462  21.51866483  21.61191025  21.58971634  21.49194678\n",
            "  21.48144706  21.48699903  21.41920826   5.          21.40831838\n",
            "  21.40060975  21.34856088  21.34660849   1.          21.29616301\n",
            "  21.31843946   8.          21.29114829  21.2395533   14.\n",
            "  21.24790357 365.          21.21882141  60.          21.21028708\n",
            "   6.          21.16544806   2.          20.87966323  20.85479074\n",
            "  20.83837434  20.81243548  20.82240385  20.75929767  20.74184714\n",
            "  20.76334287  20.74455594  90.          20.69591628  20.70498705\n",
            "  20.68259525  20.6411489   10.          20.65026219 120.\n",
            "  20.62064349  20.57476621  20.5512777   20.55748037  20.53336895\n",
            "  20.52033016  20.48651327  20.47077566  20.47256733  20.43681002\n",
            "  20.41269499  20.39113339  20.40200786  20.35982247  20.34175383\n",
            "  20.33391289  20.31670227  20.27932518  20.29021789  20.2301423\n",
            "  20.26469489  20.22536315  20.20321946  20.16439918  20.13658752\n",
            "  21.69577162  21.66394774  21.15355251  21.15474317  21.11655981\n",
            "  21.11706763  21.08103063   9.          21.0659698   21.07066562\n",
            " 140.          21.0275603   21.01475572  28.          20.97993643\n",
            "  20.98017777  20.95570577  20.93462809  20.93718311  20.91563134\n",
            "  20.16001281  20.14020957  20.06946665  20.01015635  19.85679743\n",
            " 150.        ]\n",
            "Column: N14DoYouHave\n",
            "Unique values: [1. 2.]\n",
            "Column: N15LivingTogether\n",
            "Unique values: [2.         1.47599676 1.         1.4477339  1.44398795 1.48707423\n",
            " 1.48906472 1.46069927 1.49232946 1.53073948 1.56975523 1.54754124\n",
            " 1.54382669 1.54629352 1.54694189 1.57900948 1.56211104 1.55784289\n",
            " 1.59611396 1.60303925 1.49682543 1.51688217 1.52302128 1.5898416\n",
            " 1.59032462 1.6059351  1.61318747 1.61896206 1.61788563 1.63807976\n",
            " 1.6268402  1.63650755 1.64842439 1.62728302 1.63433743 1.63167469\n",
            " 1.49147142]\n",
            "Column: N16HowOldIs\n",
            "Unique values: [27.         30.         39.         57.         20.         19.\n",
            " 16.         22.11099674 23.         17.         24.60773122 21.\n",
            " 26.         36.         28.51589851 32.         48.         22.42396779\n",
            " 24.         46.         33.         29.         31.         28.\n",
            " 22.         33.54612854 25.         21.41761132 40.         37.\n",
            " 38.         34.         18.         24.90755951 21.59727902 26.39190904\n",
            " 24.00624005 27.05997595 25.18216463 21.52465431 30.1156309  24.43363692\n",
            " 19.45653848 27.00107691 21.13140016 45.         44.         43.\n",
            " 49.         41.         30.22412376 25.81410056 25.86675376 18.22081236\n",
            " 28.83307415 24.93354278 25.73661353 26.92522408 30.15491963 28.45690225\n",
            " 23.64489764 45.50467466 26.89989117 54.         29.37646346 27.96479781\n",
            " 29.51518598 22.57134761]\n",
            "Column: D3receivecredit\n",
            "Unique values: [2.         1.34707571 1.         1.29538508 1.32915339 1.2727622\n",
            " 1.35283725 1.42141554 2.14398031 1.64194345 1.35478844 1.48524196\n",
            " 1.59042797 1.62196114 1.41214875 1.37860907 1.64973552 1.46538968\n",
            " 1.39933317 1.71509656 1.89147042 1.48569569 1.58203163 1.38217649\n",
            " 1.33739071 1.59407883 1.54965717 1.7296711  1.78728997 1.62385269\n",
            " 1.61111261 1.6311421  1.32082493 1.4373117  1.67044214 1.82068365\n",
            " 1.51303153 1.49252455 1.39820685 1.57409692 1.48666294 1.68469487\n",
            " 1.4456033  1.63126952 1.5546773  1.53410957 1.81533157 1.89989859\n",
            " 1.51784721 1.7902407  1.67775834 1.61938294 1.93282321 1.68806019\n",
            " 1.66593637 1.80826696 1.95962236 1.80915768 1.72624352 1.70235488\n",
            " 1.63617858 1.69963891 1.77674064 1.72231094 1.835648   1.82826974]\n",
            "Column: N2SexDebut\n",
            "Unique values: [21.         19.         17.         20.70027253 20.         18.\n",
            " 21.42572228 18.51703601 30.         22.         23.         26.\n",
            " 16.         14.         28.         15.         25.         32.\n",
            " 24.         19.4826117  12.         13.         20.97063512 17.29818944]\n",
            "Column: N3HadAnSti\n",
            "Unique values: [2.         1.         1.89830392 1.77864146]\n",
            "Column: HabitationStatus\n",
            "Unique values: [1. 2.]\n",
            "Column: Unemployed\n",
            "Unique values: [1.         1.53963996 2.         1.69106118 1.97852267 1.72680025\n",
            " 1.71934695 1.8623796  1.1479128  1.68473137 1.48966233 1.68599943\n",
            " 1.5099476  1.5461026  1.65830894 1.52597856]\n",
            "Column: Education\n",
            "Unique values: [2. 1.]\n",
            "Column: AlcoholUse\n",
            "Unique values: [2.         1.         1.73514077 1.78554439]\n",
            "Column: SexPartner1year\n",
            "Unique values: [0. 1.]\n",
            "Column: SexPartner3month\n",
            "Unique values: [0. 1.]\n",
            "Column: LastPartnerSpouse\n",
            "Unique values: [1. 0.]\n",
            "Column: Belong\n",
            "Unique values: [1. 0.]\n",
            "Column: ReceiveHelp\n",
            "Unique values: [1. 0.]\n",
            "Column: SexPartnerLife3\n",
            "Unique values: [0. 1.]\n"
          ]
        }
      ]
    },
    {
      "cell_type": "code",
      "source": [
        "#Correcting inconsistency\n",
        "data1['CaseStatus'] = data1['CaseStatus'].replace(3, 2)\n",
        "print(\"\\nCorrected CaseStatus = 3 to CaseStatus = 2\")\n",
        "print(f\"Unique values in CaseStatus after correction: {data1['CaseStatus'].unique()}\")\n",
        "print(\"\\nValue counts in CaseStatus after correction:\")\n",
        "print(data1['CaseStatus'].value_counts(dropna=False))"
      ],
      "metadata": {
        "colab": {
          "base_uri": "https://localhost:8080/"
        },
        "id": "cnGA1zU7fe6i",
        "outputId": "5de3b177-7bd0-4c6a-b6c6-2b335c80243e"
      },
      "execution_count": null,
      "outputs": [
        {
          "output_type": "stream",
          "name": "stdout",
          "text": [
            "\n",
            "Corrected CaseStatus = 3 to CaseStatus = 2\n",
            "Unique values in CaseStatus after correction: [2. 1.]\n",
            "\n",
            "Value counts in CaseStatus after correction:\n",
            "CaseStatus\n",
            "2.0    115\n",
            "1.0    112\n",
            "Name: count, dtype: int64\n"
          ]
        }
      ]
    },
    {
      "cell_type": "code",
      "source": [
        "#Converting CaseStatus from 1 and 2 to binary\n",
        "if set(data1['CaseStatus'].dropna().unique()).issubset({1, 2}):\n",
        "    print(f\"\\nUnique values in CaseStatus before binary conversion: {data1['CaseStatus'].unique()}\")\n",
        "    data1['CaseStatus'] = data1['CaseStatus'].map({1: 1, 2: 0})\n",
        "    print(f\"Converted CaseStatus from [1, 2] to [0, 1]\")\n",
        "    print(f\"Unique values in CaseStatus after binary conversion: {data1['CaseStatus'].unique()}\")\n",
        "    print(\"\\nValue counts in CaseStatus after binary conversion:\")\n",
        "    print(data1['CaseStatus'].value_counts(dropna=False))\n",
        "else:\n",
        "    print(f\"\\nCaseStatus still contains unexpected values: {data1['CaseStatus'].unique()}\")"
      ],
      "metadata": {
        "colab": {
          "base_uri": "https://localhost:8080/"
        },
        "id": "Z_JzParEfpr2",
        "outputId": "87ac2534-898f-48eb-f0ae-914c50812cc4"
      },
      "execution_count": null,
      "outputs": [
        {
          "output_type": "stream",
          "name": "stdout",
          "text": [
            "\n",
            "Unique values in CaseStatus before binary conversion: [2. 1.]\n",
            "Converted CaseStatus from [1, 2] to [0, 1]\n",
            "Unique values in CaseStatus after binary conversion: [0 1]\n",
            "\n",
            "Value counts in CaseStatus after binary conversion:\n",
            "CaseStatus\n",
            "0    115\n",
            "1    112\n",
            "Name: count, dtype: int64\n"
          ]
        }
      ]
    },
    {
      "cell_type": "code",
      "source": [
        "print(data1.info())"
      ],
      "metadata": {
        "colab": {
          "base_uri": "https://localhost:8080/"
        },
        "id": "Q6927GQsgpSm",
        "outputId": "245fde19-8cf1-4cff-b22d-851beb500108"
      },
      "execution_count": null,
      "outputs": [
        {
          "output_type": "stream",
          "name": "stdout",
          "text": [
            "<class 'pandas.core.frame.DataFrame'>\n",
            "RangeIndex: 227 entries, 0 to 226\n",
            "Data columns (total 30 columns):\n",
            " #   Column               Non-Null Count  Dtype  \n",
            "---  ------               --------------  -----  \n",
            " 0   IdNumber             227 non-null    float64\n",
            " 1   CaseStatus           227 non-null    int64  \n",
            " 2   A1Age                227 non-null    float64\n",
            " 3   Weight               227 non-null    float64\n",
            " 4   Height               227 non-null    float64\n",
            " 5   C3StiYesno           227 non-null    float64\n",
            " 6   D1BurialSociety      227 non-null    float64\n",
            " 7   D1religiousgrp       227 non-null    float64\n",
            " 8   D1savingsClub        227 non-null    float64\n",
            " 9   D1tradersAssoc       227 non-null    float64\n",
            " 10  D3Education          227 non-null    float64\n",
            " 11  D3FuneralAssistance  227 non-null    float64\n",
            " 12  D3HealthServices     227 non-null    float64\n",
            " 13  DurationOfillness    227 non-null    float64\n",
            " 14  N14DoYouHave         227 non-null    float64\n",
            " 15  N15LivingTogether    227 non-null    float64\n",
            " 16  N16HowOldIs          227 non-null    float64\n",
            " 17  D3receivecredit      227 non-null    float64\n",
            " 18  N2SexDebut           227 non-null    float64\n",
            " 19  N3HadAnSti           227 non-null    float64\n",
            " 20  HabitationStatus     227 non-null    float64\n",
            " 21  Unemployed           227 non-null    float64\n",
            " 22  Education            227 non-null    float64\n",
            " 23  AlcoholUse           227 non-null    float64\n",
            " 24  SexPartner1year      227 non-null    float64\n",
            " 25  SexPartner3month     227 non-null    float64\n",
            " 26  LastPartnerSpouse    227 non-null    float64\n",
            " 27  Belong               227 non-null    float64\n",
            " 28  ReceiveHelp          227 non-null    float64\n",
            " 29  SexPartnerLife3      227 non-null    float64\n",
            "dtypes: float64(29), int64(1)\n",
            "memory usage: 53.3 KB\n",
            "None\n"
          ]
        }
      ]
    },
    {
      "cell_type": "markdown",
      "source": [
        "Stepwise logistic regression for variable selection"
      ],
      "metadata": {
        "id": "WOxWVGA2hd5u"
      }
    },
    {
      "cell_type": "code",
      "source": [
        "## Defining Independent variables\n",
        "IVs = [ \"A1Age\",\"C3StiYesno\",\"D1BurialSociety\",\"D1religiousgrp\",\"D1savingsClub\",\"D1tradersAssoc\",\"D3Education\",\n",
        "       \"D3FuneralAssistance\",\"D3HealthServices\",\"DurationOfillness\",\"N14DoYouHave\",\"N15LivingTogether\",\n",
        "        \"D3receivecredit\",\"N3HadAnSti\",\"HabitationStatus\",\"Unemployed\",\"Education\",\"AlcoholUse\",\"SexPartner1year\",\"SexPartner3month\",\n",
        "        \"LastPartnerSpouse\",\"Belong\",\"ReceiveHelp\",\"SexPartnerLife3\"]\n",
        "#Defining Independent and dependent variables\n",
        "x = data1[IVs]\n",
        "y = data1['CaseStatus']\n",
        "## Adding a constant for intercept in logistic regression\n",
        "import statsmodels.api as sm\n",
        "x=sm.add_constant(x)\n",
        "### Stepwise Regression\n",
        "def stepwise_logistic_regression(X, y, threshold_in=0.05, threshold_out=0.10, verbose=True):\n",
        "\n",
        "##Performing stepwise selection for logistic regression.\n",
        "    selected_features = []\n",
        "    remaining_features = list(X.columns)\n",
        "    changed = True\n",
        "    while changed:\n",
        "        changed = False\n",
        "        # Forward Step\n",
        "        new_pvalues = pd.Series(dtype=float)\n",
        "        for feature in remaining_features:\n",
        "            model = sm.Logit(y, X[selected_features + [feature]]).fit(disp=False)\n",
        "            new_pvalues[feature] = model.pvalues[feature]\n",
        "\n",
        "        if not new_pvalues.empty:\n",
        "            best_feature = new_pvalues.idxmin()\n",
        "            if new_pvalues[best_feature] < threshold_in:\n",
        "                selected_features.append(best_feature)\n",
        "                remaining_features.remove(best_feature)\n",
        "                changed = True\n",
        "                if verbose:\n",
        "                    print(f\"Added {best_feature} (p-value: {new_pvalues[best_feature]:.4f})\")\n",
        "\n",
        "        #Backward step\n",
        "        if len(selected_features) > 1:\n",
        "            model = sm.Logit(y, X[selected_features]).fit(disp=False)\n",
        "            pvalues = model.pvalues.iloc[1:]  # Exclude intercept\n",
        "            worst_feature = pvalues.idxmax()\n",
        "\n",
        "            if pvalues[worst_feature] > threshold_out:\n",
        "                selected_features.remove(worst_feature)\n",
        "                remaining_features.append(worst_feature)\n",
        "                changed = True\n",
        "                if verbose:\n",
        "                    print(f\"Removed {worst_feature} (p-value: {pvalues[worst_feature]:.4f})\")\n",
        "\n",
        "    return selected_features\n",
        "\n",
        "\n",
        "selected_features = stepwise_logistic_regression(x, y)\n",
        "print(\"\\nFinal Selected Features:\", selected_features)\n",
        "\n",
        "final_model = sm.Logit(y, x[selected_features]).fit()\n",
        "print(final_model.summary())"
      ],
      "metadata": {
        "id": "YobNf2MBgudA",
        "colab": {
          "base_uri": "https://localhost:8080/"
        },
        "outputId": "10012d98-d32c-481b-bdf7-b55efd8cdd1d"
      },
      "execution_count": null,
      "outputs": [
        {
          "output_type": "stream",
          "name": "stdout",
          "text": [
            "Added SexPartner1year (p-value: 0.0001)\n",
            "Added N3HadAnSti (p-value: 0.0006)\n",
            "Added N15LivingTogether (p-value: 0.0000)\n",
            "Added D3FuneralAssistance (p-value: 0.0004)\n",
            "Added Belong (p-value: 0.0123)\n",
            "Added SexPartnerLife3 (p-value: 0.0281)\n",
            "\n",
            "Final Selected Features: ['SexPartner1year', 'N3HadAnSti', 'N15LivingTogether', 'D3FuneralAssistance', 'Belong', 'SexPartnerLife3']\n",
            "Optimization terminated successfully.\n",
            "         Current function value: 0.519734\n",
            "         Iterations 7\n",
            "                           Logit Regression Results                           \n",
            "==============================================================================\n",
            "Dep. Variable:             CaseStatus   No. Observations:                  227\n",
            "Model:                          Logit   Df Residuals:                      221\n",
            "Method:                           MLE   Df Model:                            5\n",
            "Date:                Sun, 03 Aug 2025   Pseudo R-squ.:                  0.2501\n",
            "Time:                        17:08:25   Log-Likelihood:                -117.98\n",
            "converged:                       True   LL-Null:                       -157.32\n",
            "Covariance Type:            nonrobust   LLR p-value:                 1.577e-15\n",
            "=======================================================================================\n",
            "                          coef    std err          z      P>|z|      [0.025      0.975]\n",
            "---------------------------------------------------------------------------------------\n",
            "SexPartner1year         1.2118      0.437      2.772      0.006       0.355       2.069\n",
            "N3HadAnSti             -3.1256      0.605     -5.165      0.000      -4.312      -1.940\n",
            "N15LivingTogether       0.9018      0.340      2.656      0.008       0.236       1.567\n",
            "D3FuneralAssistance     2.2487      0.613      3.669      0.000       1.048       3.450\n",
            "Belong                  1.4569      0.585      2.492      0.013       0.311       2.603\n",
            "SexPartnerLife3         0.7701      0.351      2.196      0.028       0.083       1.457\n",
            "=======================================================================================\n"
          ]
        }
      ]
    },
    {
      "cell_type": "markdown",
      "source": [
        "Comparing Models"
      ],
      "metadata": {
        "id": "S5jDVdeV7AtC"
      }
    },
    {
      "cell_type": "code",
      "source": [
        "x[selected_features].isnull().sum()"
      ],
      "metadata": {
        "colab": {
          "base_uri": "https://localhost:8080/",
          "height": 272
        },
        "id": "1rSXo1WK-SrR",
        "outputId": "da3c66ad-5687-40b5-adad-951ec87c201c"
      },
      "execution_count": null,
      "outputs": [
        {
          "output_type": "execute_result",
          "data": {
            "text/plain": [
              "SexPartner1year        0\n",
              "N3HadAnSti             0\n",
              "N15LivingTogether      0\n",
              "D3FuneralAssistance    0\n",
              "Belong                 0\n",
              "SexPartnerLife3        0\n",
              "dtype: int64"
            ],
            "text/html": [
              "<div>\n",
              "<style scoped>\n",
              "    .dataframe tbody tr th:only-of-type {\n",
              "        vertical-align: middle;\n",
              "    }\n",
              "\n",
              "    .dataframe tbody tr th {\n",
              "        vertical-align: top;\n",
              "    }\n",
              "\n",
              "    .dataframe thead th {\n",
              "        text-align: right;\n",
              "    }\n",
              "</style>\n",
              "<table border=\"1\" class=\"dataframe\">\n",
              "  <thead>\n",
              "    <tr style=\"text-align: right;\">\n",
              "      <th></th>\n",
              "      <th>0</th>\n",
              "    </tr>\n",
              "  </thead>\n",
              "  <tbody>\n",
              "    <tr>\n",
              "      <th>SexPartner1year</th>\n",
              "      <td>0</td>\n",
              "    </tr>\n",
              "    <tr>\n",
              "      <th>N3HadAnSti</th>\n",
              "      <td>0</td>\n",
              "    </tr>\n",
              "    <tr>\n",
              "      <th>N15LivingTogether</th>\n",
              "      <td>0</td>\n",
              "    </tr>\n",
              "    <tr>\n",
              "      <th>D3FuneralAssistance</th>\n",
              "      <td>0</td>\n",
              "    </tr>\n",
              "    <tr>\n",
              "      <th>Belong</th>\n",
              "      <td>0</td>\n",
              "    </tr>\n",
              "    <tr>\n",
              "      <th>SexPartnerLife3</th>\n",
              "      <td>0</td>\n",
              "    </tr>\n",
              "  </tbody>\n",
              "</table>\n",
              "</div><br><label><b>dtype:</b> int64</label>"
            ]
          },
          "metadata": {},
          "execution_count": 17
        }
      ]
    },
    {
      "cell_type": "code",
      "source": [
        "# Seperating the data into dependent and independent\n",
        "x = x[selected_features].values\n",
        "y = data1['CaseStatus'].values"
      ],
      "metadata": {
        "id": "sEJ3-Gf59Q3e"
      },
      "execution_count": null,
      "outputs": []
    },
    {
      "cell_type": "code",
      "source": [
        "import pandas as pd\n",
        "# Import libraries and classes required\n",
        "from sklearn.model_selection import train_test_split, StratifiedKFold\n",
        "from sklearn.preprocessing import StandardScaler\n",
        "from sklearn.neighbors import KNeighborsClassifier\n",
        "from sklearn.metrics import accuracy_score, confusion_matrix, classification_report"
      ],
      "metadata": {
        "id": "OmmAIM3X_3ul"
      },
      "execution_count": null,
      "outputs": []
    },
    {
      "cell_type": "markdown",
      "source": [
        "Splitting data into Training and Teting"
      ],
      "metadata": {
        "id": "cnjRmyPq_baK"
      }
    },
    {
      "cell_type": "code",
      "source": [
        "#splitting the dataset into the Training set and Test set\n",
        "x_train, x_test, y_train, y_test = train_test_split(x, y, test_size=0.2, random_state=0)"
      ],
      "metadata": {
        "id": "EGZ3RHvs7EjZ"
      },
      "execution_count": null,
      "outputs": []
    },
    {
      "cell_type": "markdown",
      "source": [
        "Standardizing the data"
      ],
      "metadata": {
        "id": "FEiuhKpRADjX"
      }
    },
    {
      "cell_type": "code",
      "source": [
        "scaler = StandardScaler()\n",
        "scaler.fit(x_train)\n",
        "\n",
        "x_train = scaler.fit_transform(x_train)\n",
        "x_test = scaler.transform(x_test)"
      ],
      "metadata": {
        "id": "35OcM2JqAGdm"
      },
      "execution_count": null,
      "outputs": []
    },
    {
      "cell_type": "markdown",
      "source": [
        "Logistic Regression"
      ],
      "metadata": {
        "id": "iRbv-1-xAQq3"
      }
    },
    {
      "cell_type": "code",
      "source": [
        "from sklearn.linear_model import LogisticRegression\n",
        "classifier = LogisticRegression()\n",
        "classifier.fit(x_train, y_train)\n",
        "y_pred = classifier.predict(x_test)\n",
        "\n",
        "# summary of the predictions made by the classifier\n",
        "print(classification_report(y_test, y_pred))\n",
        "print(confusion_matrix(y_test, y_pred))\n",
        "print('accuracy is', accuracy_score(y_pred,y_test))"
      ],
      "metadata": {
        "colab": {
          "base_uri": "https://localhost:8080/"
        },
        "id": "CjIJrKogAOpc",
        "outputId": "1680848a-f992-4d81-b8ea-0d23ba6a2932"
      },
      "execution_count": null,
      "outputs": [
        {
          "output_type": "stream",
          "name": "stdout",
          "text": [
            "              precision    recall  f1-score   support\n",
            "\n",
            "           0       0.62      0.86      0.72        21\n",
            "           1       0.82      0.56      0.67        25\n",
            "\n",
            "    accuracy                           0.70        46\n",
            "   macro avg       0.72      0.71      0.69        46\n",
            "weighted avg       0.73      0.70      0.69        46\n",
            "\n",
            "[[18  3]\n",
            " [11 14]]\n",
            "accuracy is 0.6956521739130435\n"
          ]
        }
      ]
    },
    {
      "cell_type": "markdown",
      "source": [
        "Accuracy Score"
      ],
      "metadata": {
        "id": "6cteSTEtAvl-"
      }
    },
    {
      "cell_type": "code",
      "source": [
        "from sklearn.metrics import accuracy_score\n",
        "print('accuracy is', (accuracy_score(y_pred,y_test)) * 100)"
      ],
      "metadata": {
        "colab": {
          "base_uri": "https://localhost:8080/"
        },
        "id": "rhHU8lDbAzDw",
        "outputId": "705baa7c-dba5-431c-a5df-609735ed0b84"
      },
      "execution_count": null,
      "outputs": [
        {
          "output_type": "stream",
          "name": "stdout",
          "text": [
            "accuracy is 69.56521739130434\n"
          ]
        }
      ]
    },
    {
      "cell_type": "markdown",
      "source": [
        "Support Vector Machine"
      ],
      "metadata": {
        "id": "dhUiIen0A6ct"
      }
    },
    {
      "cell_type": "code",
      "source": [
        "from sklearn.svm import SVC\n",
        "classifier = SVC(kernel = 'linear', random_state = 0)\n",
        "classifier.fit(x_train, y_train)\n",
        "\n",
        "y_pred = classifier.predict(x_test)\n",
        "\n",
        "# summary of the predictions made by the classifier\n",
        "print(classification_report(y_test, y_pred))\n",
        "print(confusion_matrix(y_test, y_pred))\n",
        "print('accuracy is', (accuracy_score(y_pred,y_test)) * 100)"
      ],
      "metadata": {
        "colab": {
          "base_uri": "https://localhost:8080/"
        },
        "id": "bjjOkBCiA_TT",
        "outputId": "65e51512-441b-4336-9fc9-c6ebcfb06ed8"
      },
      "execution_count": null,
      "outputs": [
        {
          "output_type": "stream",
          "name": "stdout",
          "text": [
            "              precision    recall  f1-score   support\n",
            "\n",
            "           0       0.62      0.86      0.72        21\n",
            "           1       0.82      0.56      0.67        25\n",
            "\n",
            "    accuracy                           0.70        46\n",
            "   macro avg       0.72      0.71      0.69        46\n",
            "weighted avg       0.73      0.70      0.69        46\n",
            "\n",
            "[[18  3]\n",
            " [11 14]]\n",
            "accuracy is 69.56521739130434\n"
          ]
        }
      ]
    },
    {
      "cell_type": "markdown",
      "source": [
        "Bernoulli Naive Bayes"
      ],
      "metadata": {
        "id": "XHTn4c0WBpI6"
      }
    },
    {
      "cell_type": "code",
      "source": [
        "from sklearn.naive_bayes import BernoulliNB\n",
        "classifier = BernoulliNB()\n",
        "classifier.fit(x_train, y_train)\n",
        "\n",
        "y_pred = classifier.predict(x_test)\n",
        "\n",
        "print(classification_report(y_test, y_pred))\n",
        "print(confusion_matrix(y_test, y_pred))\n",
        "print('accuracy is', (accuracy_score(y_pred,y_test)) * 100)"
      ],
      "metadata": {
        "colab": {
          "base_uri": "https://localhost:8080/"
        },
        "id": "CUlf_fXEBtA3",
        "outputId": "b5f2036f-f148-4597-ae72-3163b7a2f5d2"
      },
      "execution_count": null,
      "outputs": [
        {
          "output_type": "stream",
          "name": "stdout",
          "text": [
            "              precision    recall  f1-score   support\n",
            "\n",
            "           0       0.64      0.86      0.73        21\n",
            "           1       0.83      0.60      0.70        25\n",
            "\n",
            "    accuracy                           0.72        46\n",
            "   macro avg       0.74      0.73      0.72        46\n",
            "weighted avg       0.75      0.72      0.71        46\n",
            "\n",
            "[[18  3]\n",
            " [10 15]]\n",
            "accuracy is 71.73913043478261\n"
          ]
        }
      ]
    },
    {
      "cell_type": "markdown",
      "source": [
        "Bernoulli Naive Bayes is the best model with 71.74% accuracy compared with other models which have 69.57% accuracy"
      ],
      "metadata": {
        "id": "2jW4GpFhCqTz"
      }
    },
    {
      "cell_type": "markdown",
      "source": [
        "K Nearest Neighbor"
      ],
      "metadata": {
        "id": "tlatXrjNB6Fh"
      }
    },
    {
      "cell_type": "code",
      "source": [
        "from sklearn.neighbors import KNeighborsClassifier\n",
        "classifier = KNeighborsClassifier(n_neighbors = 5, metric = 'minkowski', p = 2)\n",
        "classifier.fit(x_train, y_train)\n",
        "\n",
        "y_pred = classifier.predict(x_test)\n",
        "\n",
        "print(classification_report(y_test, y_pred))\n",
        "print(confusion_matrix(y_test, y_pred))\n",
        "print('accuracy is', (accuracy_score(y_pred,y_test)) * 100)"
      ],
      "metadata": {
        "colab": {
          "base_uri": "https://localhost:8080/"
        },
        "id": "_wfHFsAACCeo",
        "outputId": "3b547c97-d579-4b47-bc7c-5eb93d2f8a13"
      },
      "execution_count": null,
      "outputs": [
        {
          "output_type": "stream",
          "name": "stdout",
          "text": [
            "              precision    recall  f1-score   support\n",
            "\n",
            "           0       0.67      0.67      0.67        21\n",
            "           1       0.72      0.72      0.72        25\n",
            "\n",
            "    accuracy                           0.70        46\n",
            "   macro avg       0.69      0.69      0.69        46\n",
            "weighted avg       0.70      0.70      0.70        46\n",
            "\n",
            "[[14  7]\n",
            " [ 7 18]]\n",
            "accuracy is 69.56521739130434\n"
          ]
        }
      ]
    }
  ]
}